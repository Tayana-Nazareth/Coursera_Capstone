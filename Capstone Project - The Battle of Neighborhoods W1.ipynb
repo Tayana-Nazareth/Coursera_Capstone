{
    "cells": [
        {
            "metadata": {},
            "cell_type": "markdown",
            "source": "<h1 align=center><font size = 5>Segmenting and Clustering Neighborhoods in Munich</font></h1>\n"
        },
        {
            "metadata": {
                "collapsed": true
            },
            "cell_type": "markdown",
            "source": "\n\n## Introduction / Business Problem\n\nMunich is the capital of Bavaria and the third-largest city in Germany, with a population of 1,558,395 inhabitants in 2020. Due to its high quality of life, its economic and cultural importance, Munich is a city that attracts investors, families, workers, and students, from Germany and abroad. It has a heated real estate market with high prices.\n\nOur client is a real estate agency that operates in the city of Munich and seeks an effective tool to help its clients find the property they are looking for. The desired product is a model that classifies and maps the areas of the city according to the existing similarities. The classes found will help realtors to focus on the areas that best fit the profile of clients.\n\n## Data \n\n\nFoursquare location data will be used to find out the venue categories in the neighborhood and the frequency with which they are visited. For demographic and price data, we will use data from The Federal Statistical Office (Destatis - Germany). We will use this features to group the neighborhoods into clusters, specifically, the K-Means Clustering model. Finally, to visualize the neighborhoods in Munich and their emerging clusters, we will use the Folium library.\n\n\n\n\n"
        },
        {
            "metadata": {},
            "cell_type": "code",
            "source": "",
            "execution_count": null,
            "outputs": []
        }
    ],
    "metadata": {
        "kernelspec": {
            "name": "python3",
            "display_name": "Python 3.7",
            "language": "python"
        },
        "language_info": {
            "name": "python",
            "version": "3.7.9",
            "mimetype": "text/x-python",
            "codemirror_mode": {
                "name": "ipython",
                "version": 3
            },
            "pygments_lexer": "ipython3",
            "nbconvert_exporter": "python",
            "file_extension": ".py"
        }
    },
    "nbformat": 4,
    "nbformat_minor": 1
}